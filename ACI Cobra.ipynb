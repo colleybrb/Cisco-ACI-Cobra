{
 "cells": [
  {
   "cell_type": "code",
   "execution_count": 1,
   "id": "1cbc7266-3143-47ad-8644-5dfd2ebdf6f9",
   "metadata": {},
   "outputs": [],
   "source": [
    "import csv\n",
    "import cobra.mit.access\n",
    "import cobra.model.fv\n",
    "import cobra.mit.request\n",
    "import cobra.mit.session\n",
    "import cobra.model.fvns\n",
    "import cobra.model.pol\n",
    "import cobra.model.phys\n",
    "import cobra.model.vns\n",
    "import cobra.model.bgp\n",
    "import cobra.model.vz\n",
    "import cobra.model.leak\n",
    "import cobra.model.pol\n",
    "import cobra.model.infra\n",
    "import cobra.model.vns\n",
    "from cobra.internal.codec.xmlcodec import toXMLStr\n",
    "import cobra.model.infra\n",
    "from cobra.mit.request import ClassQuery\n",
    "from cobra.mit.session import LoginSession\n",
    "from cobra.mit.access import MoDirectory\n",
    "import json\n",
    "import re\n",
    "from re import match\n",
    "from cobra.internal.codec.jsoncodec import toJSONStr\n",
    "import getpass\n",
    "import requests.packages.urllib3\n",
    "requests.packages.urllib3.disable_warnings()"
   ]
  },
  {
   "cell_type": "code",
   "execution_count": null,
   "id": "a486d303-6aa8-4bde-82d2-c6508b7dbef7",
   "metadata": {},
   "outputs": [],
   "source": [
    "\n",
    "#import json\n",
    "#from cobra.internal.codec.jsoncodec import toJSONStr\n",
    "#cq = cobra.mit.request.ClassQuery('fvTenant')\n",
    "#cq = cobra.mit.request.ClassQuery('uni/infra')\n",
    "# set subtree to full\n",
    "#cq.subtree = 'full'\n",
    "# set property filter to tenant name\n",
    "#cq.propFilter = 'eq(fvTenant.name, \"Daniel\")'\n",
    "\n",
    "# submit query\n",
    "#tnt = md.query(cq)\n",
    "#for mo in tnt:\n",
    "x=(json.loads(toJSONStr(mo)))"
   ]
  },
  {
   "cell_type": "code",
   "execution_count": 2,
   "id": "771de68e-103b-404c-8d59-18aeaa989ad9",
   "metadata": {},
   "outputs": [],
   "source": [
    "def parseClass(classDn):\n",
    "    matchClass=re.findall(\"([^/]*)$\", classDn)\n",
    "    return(matchClass[0])"
   ]
  },
  {
   "cell_type": "code",
   "execution_count": 30,
   "id": "6597f88a-bbed-489b-8e61-f40175b0955c",
   "metadata": {},
   "outputs": [],
   "source": [
    "def classQueryFunc(classDn):\n",
    "    matchClass=parseClass(classDn)\n",
    "    classQuery = ClassQuery(\"/\"+matchClass)\n",
    "    classQuery.subtree = 'full'\n",
    "    tenantBdMoList = md.query(classQuery)\n",
    "    temp_list=[]\n",
    "    for tenantBd in tenantBdMoList:\n",
    "        temp_list.append(tenantBd.dn)\n",
    "    return(temp_list)\n"
   ]
  },
  {
   "cell_type": "code",
   "execution_count": 31,
   "id": "78fa5285-4592-4e48-b526-c4f341938d1b",
   "metadata": {},
   "outputs": [],
   "source": [
    "def querydnjson_funct(classDn):\n",
    "    classQuery = ClassQuery(classDn)\n",
    "    classQuery.subtree = 'full'\n",
    "    MoList = md.query(classQuery)\n",
    "    for mo in MoList:\n",
    "        return(json.loads(toJSONStr(mo)))"
   ]
  },
  {
   "cell_type": "code",
   "execution_count": 32,
   "id": "ec1c6dad-545e-47e2-b12b-ab5f1953f262",
   "metadata": {},
   "outputs": [],
   "source": [
    "def createVlanPool(md,vlanname,vlanrange):\n",
    "\n",
    "    res = re.split('-', vlanrange)\n",
    "    fromvlan=('vlan-'+res[0])\n",
    "    tovlan=('vlan-'+res[1])\n",
    "    # the top level object on which operations will be made\n",
    "    polUni = cobra.model.pol.Uni('')\n",
    "    infraInfra = cobra.model.infra.Infra(polUni)\n",
    "\n",
    "    # build the request using cobra syntax\n",
    "    fvnsVlanInstP = cobra.model.fvns.VlanInstP(infraInfra, allocMode='static', annotation='', descr='', name=vlanname, nameAlias='', ownerKey='', ownerTag='', userdom=':all:')\n",
    "    fvnsEncapBlk = cobra.model.fvns.EncapBlk(fvnsVlanInstP, allocMode='inherit', annotation='', descr='', from_=fromvlan, name='', nameAlias='', role='external', to=tovlan, userdom=':all:')\n",
    "\n",
    "\n",
    "    # commit the generated code to APIC\n",
    "    print(toXMLStr(infraInfra))\n",
    "    c = cobra.mit.request.ConfigRequest()\n",
    "    c.addMo(infraInfra)\n",
    "    md.commit(c)"
   ]
  },
  {
   "cell_type": "code",
   "execution_count": 33,
   "id": "c3a02549-84e7-406c-9dbc-9f1d1c12c522",
   "metadata": {},
   "outputs": [],
   "source": [
    "\n",
    "\n",
    "def createPhysDom(md,vlanpool,physdomname):\n",
    "    \n",
    "    vlandn = re.sub('\\/fvnsVlanInstP$', '', vlanpool)\n",
    "    print(vlandn)\n",
    "    # the top level object on which operations will be made\n",
    "    polUni = cobra.model.pol.Uni('')\n",
    "    # build the request using cobra syntax\n",
    "    physDomP = cobra.model.phys.DomP(polUni, annotation='', name=physdomname, nameAlias='', ownerKey='', ownerTag='', userdom=':all:')\n",
    "    infraRsVlanNs = cobra.model.infra.RsVlanNs(physDomP, annotation='', tDn=vlandn, userdom=':all:')\n",
    "\n",
    "    # commit the generated code to APIC\n",
    "    print(toXMLStr(polUni))\n",
    "    c = cobra.mit.request.ConfigRequest()\n",
    "    c.addMo(polUni)\n",
    "    md.commit(c)"
   ]
  },
  {
   "cell_type": "code",
   "execution_count": 34,
   "id": "d7a533da-d3c9-48cf-b092-4923521f6dd7",
   "metadata": {},
   "outputs": [],
   "source": [
    "def attachdomaep(md,aep,physdomname):\n",
    "    # the top level object on which operations will be made\n",
    "    polUni = cobra.model.pol.Uni('')\n",
    "    infraInfra = cobra.model.infra.Infra(polUni)\n",
    "    infraAttEntityP = cobra.model.infra.AttEntityP(infraInfra, aep)\n",
    "\n",
    "    # build the request using cobra syntax\n",
    "    infraRsDomP = cobra.model.infra.RsDomP(infraAttEntityP, annotation='', forceResolve='yes', rType='mo', tCl='physDomP', tDn='uni/phys-'+physdomname, tType='mo', userdom=':all:')\n",
    "\n",
    "\n",
    "    # commit the generated code to APIC\n",
    "    print(toXMLStr(infraAttEntityP))\n",
    "    c = cobra.mit.request.ConfigRequest()\n",
    "    c.addMo(infraAttEntityP)\n",
    "    md.commit(c)"
   ]
  },
  {
   "cell_type": "code",
   "execution_count": 35,
   "id": "f72736b6-7f36-4f2e-b3c9-7475ac8e00f2",
   "metadata": {},
   "outputs": [],
   "source": [
    "def createTenant(md,tenantname):\n",
    "\n",
    "\n",
    "\n",
    "    # the top level object on which operations will be made\n",
    "    polUni = cobra.model.pol.Uni('')\n",
    "\n",
    "    # build the request using cobra syntax\n",
    "    fvTenant = cobra.model.fv.Tenant(polUni, annotation='', descr='', name=tenantname, nameAlias='', ownerKey='', ownerTag='', userdom=':all:')\n",
    "    vzBrCP = cobra.model.vz.BrCP(fvTenant, annotation='', descr='', intent='install', name='any', nameAlias='', ownerKey='', ownerTag='', prio='unspecified', targetDscp='unspecified', userdom=':all:')\n",
    "    vnsSvcCont = cobra.model.vns.SvcCont(fvTenant, annotation='', userdom='all')\n",
    "    fvRsTenantMonPol = cobra.model.fv.RsTenantMonPol(fvTenant, annotation='', tnMonEPGPolName='', userdom='all')\n",
    "    fvEpTags = cobra.model.fv.EpTags(fvTenant, annotation='', userdom='all')\n",
    "\n",
    "\n",
    "    # commit the generated code to APIC\n",
    "    print(toXMLStr(polUni))\n",
    "    c = cobra.mit.request.ConfigRequest()\n",
    "    c.addMo(polUni)\n",
    "    md.commit(c)"
   ]
  },
  {
   "cell_type": "code",
   "execution_count": 36,
   "id": "7161055b-ed4a-4902-b9fa-30dd33b92c2d",
   "metadata": {},
   "outputs": [],
   "source": [
    "def createvrf(md,tenantname,vrfname):\n",
    "\n",
    "    # the top level object on which operations will be made\n",
    "    polUni = cobra.model.pol.Uni('')\n",
    "    fvTenant = cobra.model.fv.Tenant(polUni, 'Daniel')\n",
    "\n",
    "    # build the request using cobra syntax\n",
    "    fvCtx = cobra.model.fv.Ctx(fvTenant, annotation='', bdEnforcedEnable='no', descr='', ipDataPlaneLearning='enabled', knwMcastAct='permit', name='Daniel', nameAlias='', ownerKey='', ownerTag='', pcEnfDir='ingress', pcEnfPref='enforced', userdom=':all:', vrfIndex='0')\n",
    "    leakRoutes = cobra.model.leak.Routes(fvCtx, annotation='', descr='', name='', nameAlias='', userdom=':all:')\n",
    "    fvRsVrfValidationPol = cobra.model.fv.RsVrfValidationPol(fvCtx, annotation='', tnL3extVrfValidationPolName='', userdom='all')\n",
    "    vzAny = cobra.model.vz.Any(fvCtx, annotation='', descr='', matchT='AtleastOne', name='', nameAlias='', prefGrMemb='disabled', userdom='all')\n",
    "    vzRsAnyToProv = cobra.model.vz.RsAnyToProv(vzAny, annotation='', intent='install', matchT='AtleastOne', prio='unspecified', tnVzBrCPName='permit-any', userdom=':all:')\n",
    "    vzRsAnyToCons = cobra.model.vz.RsAnyToCons(vzAny, annotation='', intent='install', prio='unspecified', tnVzBrCPName='permit-any', userdom=':all:')\n",
    "    fvRsOspfCtxPol = cobra.model.fv.RsOspfCtxPol(fvCtx, annotation='', tnOspfCtxPolName='', userdom='all')\n",
    "    fvRsCtxToEpRet = cobra.model.fv.RsCtxToEpRet(fvCtx, annotation='', tnFvEpRetPolName='', userdom='all')\n",
    "    fvRsCtxToExtRouteTagPol = cobra.model.fv.RsCtxToExtRouteTagPol(fvCtx, annotation='', tnL3extRouteTagPolName='', userdom='all')\n",
    "    fvRsBgpCtxPol = cobra.model.fv.RsBgpCtxPol(fvCtx, annotation='', tnBgpCtxPolName='', userdom='all')\n",
    "\n",
    "\n",
    "    # commit the generated code to APIC\n",
    "    print(toXMLStr(fvTenant))\n",
    "    c = cobra.mit.request.ConfigRequest()\n",
    "    c.addMo(fvTenant)\n",
    "    md.commit(c)"
   ]
  },
  {
   "cell_type": "code",
   "execution_count": 37,
   "id": "82a0c9c1-5a56-4c52-8e2d-a401e951e63a",
   "metadata": {},
   "outputs": [],
   "source": [
    "def createanycontract(md,tenantname,contractname):\n",
    "\n",
    "\n",
    "\n",
    "\n",
    "    # the top level object on which operations will be made\n",
    "    polUni = cobra.model.pol.Uni('')\n",
    "    fvTenant = cobra.model.fv.Tenant(polUni, tenantname)\n",
    "\n",
    "    # build the request using cobra syntax\n",
    "    vzBrCP = cobra.model.vz.BrCP(fvTenant, annotation='', descr='', intent='install', name=contractname, nameAlias='', ownerKey='', ownerTag='', prio='unspecified', targetDscp='unspecified', userdom=':all:')\n",
    "    vzSubj = cobra.model.vz.Subj(vzBrCP, annotation='', consMatchT='AtleastOne', descr='', name=contractname, nameAlias='', prio='unspecified', provMatchT='AtleastOne', revFltPorts='yes', targetDscp='unspecified', userdom=':all:')\n",
    "    vzRsSubjFiltAtt = cobra.model.vz.RsSubjFiltAtt(vzSubj, action='permit', annotation='', directives='', priorityOverride='default', tnVzFilterName='default', userdom=':all:')\n",
    "\n",
    "\n",
    "    # commit the generated code to APIC\n",
    "    print(toXMLStr(fvTenant))\n",
    "    c = cobra.mit.request.ConfigRequest()\n",
    "    c.addMo(fvTenant)\n",
    "    md.commit(c)"
   ]
  },
  {
   "cell_type": "code",
   "execution_count": 38,
   "id": "6b0cd42b-8835-4866-a59a-bd06b56f3ce8",
   "metadata": {},
   "outputs": [],
   "source": [
    "def createapp(md,tenantname,appname):    \n",
    "    polUni = cobra.model.pol.Uni('')\n",
    "    fvTenant = cobra.model.fv.Tenant(polUni, tenantname)\n",
    "\n",
    "    # build the request using cobra syntax\n",
    "    fvAp = cobra.model.fv.Ap(fvTenant, annotation='', descr='', name=appname, nameAlias='', ownerKey='', ownerTag='', prio='unspecified', userdom=':all:')\n",
    "\n",
    "\n",
    "    # commit the generated code to APIC\n",
    "    print(toXMLStr(fvTenant))\n",
    "    c = cobra.mit.request.ConfigRequest()\n",
    "    c.addMo(fvTenant)\n",
    "    md.commit(c)"
   ]
  },
  {
   "cell_type": "code",
   "execution_count": 49,
   "id": "051e024e-437f-4409-9229-0d2b18fe4a2d",
   "metadata": {},
   "outputs": [],
   "source": [
    "def createbd(md,tenantname,subnet,bdname,vrf):   \n",
    "    # the top level object on which operations will be made\n",
    "    polUni = cobra.model.pol.Uni('')\n",
    "    fvTenant = cobra.model.fv.Tenant(polUni, tenantname)\n",
    "\n",
    "    # build the request using cobra syntax\n",
    "    fvBD = cobra.model.fv.BD(fvTenant, OptimizeWanBandwidth='no', annotation='', arpFlood='yes', descr='', epClear='no', epMoveDetectMode='', hostBasedRouting='no', intersiteBumTrafficAllow='no', intersiteL2Stretch='no', ipLearning='yes', ipv6McastAllow='no', limitIpLearnToSubnets='yes', llAddr='::', mac='', mcastARPDrop='yes', mcastAllow='no', multiDstPktAct='bd-flood', name=bdname, nameAlias='', ownerKey='', ownerTag='', type='regular', unicastRoute='yes', unkMacUcastAct='proxy', unkMcastAct='flood', userdom=':all:', v6unkMcastAct='flood', vmac='not-applicable')\n",
    "    fvSubnet = cobra.model.fv.Subnet(fvBD, annotation='', ctrl='', descr='', ip=subnet, ipDPLearning='enabled', name='', nameAlias='', preferred='no', userdom=':all:', virtual='no')\n",
    "    fvRsMldsn = cobra.model.fv.RsMldsn(fvBD, annotation='', tnMldSnoopPolName='', userdom='all')\n",
    "    fvRsIgmpsn = cobra.model.fv.RsIgmpsn(fvBD, annotation='', tnIgmpSnoopPolName='', userdom='all')\n",
    "    fvRsCtx = cobra.model.fv.RsCtx(fvBD, annotation='', tnFvCtxName=vrf, userdom='all')\n",
    "    fvRsBdToEpRet = cobra.model.fv.RsBdToEpRet(fvBD, annotation='', resolveAct='resolve', tnFvEpRetPolName='', userdom='all')\n",
    "    fvRsBDToNdP = cobra.model.fv.RsBDToNdP(fvBD, annotation='', tnNdIfPolName='', userdom='all')\n",
    "    \n",
    "    # commit the generated code to APIC\n",
    "    print(toXMLStr(fvTenant))\n",
    "    c = cobra.mit.request.ConfigRequest()\n",
    "    c.addMo(fvTenant)\n",
    "    md.commit(c)"
   ]
  },
  {
   "cell_type": "code",
   "execution_count": 51,
   "id": "bfa62316-76ca-4f82-902c-65262b9f3125",
   "metadata": {},
   "outputs": [],
   "source": [
    "def createbdsubnet(md,tenant,bdname,bdsubnet):    \n",
    "    polUni = cobra.model.pol.Uni('')\n",
    "    fvTenant = cobra.model.fv.Tenant(polUni, tenant)\n",
    "    fvBD = cobra.model.fv.BD(fvTenant, bdname)\n",
    "\n",
    "    # build the request using cobra syntax\n",
    "    fvSubnet = cobra.model.fv.Subnet(fvBD, annotation='', ctrl='', descr='', ip=bdsubnet, ipDPLearning='enabled', name='', nameAlias='', preferred='no', userdom=':all:', virtual='no')\n",
    "    # commit the generated code to APIC\n",
    "    print(toXMLStr(fvBD))\n",
    "    c = cobra.mit.request.ConfigRequest()\n",
    "    c.addMo(fvBD)\n",
    "    md.commit(c)"
   ]
  },
  {
   "cell_type": "code",
   "execution_count": 41,
   "id": "bf57e2d6-14c8-43a9-a06a-0983c06dc6a4",
   "metadata": {},
   "outputs": [],
   "source": [
    "def createnodeprofile(md,row):\n",
    "    # the top level object on which operations will be made\n",
    "    polUni = cobra.model.pol.Uni('')\n",
    "    infraInfra = cobra.model.infra.Infra(polUni)\n",
    "\n",
    "    # build the request using cobra syntax\n",
    "    infraNodeP = cobra.model.infra.NodeP(infraInfra, annotation='', descr='PHCSF1001-101466-AB24 and PHCSF1002-101465-AB24', name=row['LogicalNodeProfile'], nameAlias='', ownerKey='', ownerTag='', userdom=':all:')\n",
    "    infraRsAccPortP = cobra.model.infra.RsAccPortP(infraNodeP, annotation='', tDn='uni/infra/accportprof-L1001-1002', userdom=':all:')\n",
    "    infraLeafS = cobra.model.infra.LeafS(infraNodeP, annotation='', descr='', name='L1001-1002', nameAlias='', ownerKey='', ownerTag='', type='range', userdom=':all:')\n",
    "    infraRsAccNodePGrp = cobra.model.infra.RsAccNodePGrp(infraLeafS, annotation='', tDn='uni/infra/funcprof/accnodepgrp-Switch_Pol_Group', userdom=':all:')\n",
    "    infraNodeBlk = cobra.model.infra.NodeBlk(infraLeafS, annotation='', descr='', from_='1001', name='75b36de39e9be876', nameAlias='', to_='1002', userdom=':all:')\n",
    "\n",
    "\n",
    "    # commit the generated code to APIC\n",
    "    print(toXMLStr(infraInfra))\n",
    "    c = cobra.mit.request.ConfigRequest()\n",
    "    c.addMo(infraInfra)\n",
    "    md.commit(c)"
   ]
  },
  {
   "cell_type": "code",
   "execution_count": 42,
   "id": "edbfa0d7-c327-468c-abfd-d2ed0b6be78f",
   "metadata": {},
   "outputs": [],
   "source": [
    "def createepg(md,tenantname,appname,epgname,bdname,domainname):\n",
    "    # the top level object on which operations will be made\n",
    "    polUni = cobra.model.pol.Uni('')\n",
    "    fvTenant = cobra.model.fv.Tenant(polUni, tenantname)\n",
    "    fvAp = cobra.model.fv.Ap(fvTenant, appname)\n",
    "\n",
    "    # build the request using cobra syntax\n",
    "    fvAEPg = cobra.model.fv.AEPg(fvAp, annotation='', descr='', exceptionTag='', floodOnEncap='disabled', fwdCtrl='', hasMcastSource='no', isAttrBasedEPg='no', matchT='AtleastOne', name=epgname, nameAlias='', pcEnfPref='unenforced', prefGrMemb='exclude', prio='level3', shutdown='no', userdom=':all:')\n",
    "    fvRsDomAtt = cobra.model.fv.RsDomAtt(fvAEPg, annotation='', bindingType='none', classPref='encap', customEpgName='', delimiter='', encap='unknown', encapMode='auto', epgCos='Cos0', epgCosPref='disabled', instrImedcy='lazy', lagPolicyName='', netflowDir='both', netflowPref='disabled', numPorts='0', portAllocation='none', primaryEncap='unknown', primaryEncapInner='unknown', resImedcy='immediate', secondaryEncapInner='unknown', switchingMode='native', tDn='uni/phys-'+domainname, untagged='no', userdom=':all:', vnetOnly='no')\n",
    "    fvRsCustQosPol = cobra.model.fv.RsCustQosPol(fvAEPg, annotation='', tnQosCustomPolName='', userdom='all')\n",
    "    fvRsBd = cobra.model.fv.RsBd(fvAEPg, annotation='', tnFvBDName=bdname, userdom='all')\n",
    "\n",
    "\n",
    "    # commit the generated code to APIC\n",
    "    print(toXMLStr(fvAp))\n",
    "    c = cobra.mit.request.ConfigRequest()\n",
    "    c.addMo(fvAp)\n",
    "    md.commit(c)"
   ]
  },
  {
   "cell_type": "code",
   "execution_count": 43,
   "id": "4b147858-234b-42a9-91b9-dd46614d425c",
   "metadata": {},
   "outputs": [],
   "source": [
    "def createdomepg(md,tenantname,appname,bdname,epgname,domname):\n",
    "    # log into an APIC and create a directory object\n",
    "\n",
    "    # the top level object on which operations will be made\n",
    "    polUni = cobra.model.pol.Uni('')\n",
    "    fvTenant = cobra.model.fv.Tenant(polUni, tenantname)\n",
    "    fvAp = cobra.model.fv.Ap(fvTenant, appname)\n",
    "    fvAEPg = cobra.model.fv.AEPg(fvAp, epgname)\n",
    "\n",
    "    # build the request using cobra syntax\n",
    "    fvRsDomAtt = cobra.model.fv.RsDomAtt(fvAEPg, annotation='', bindingType='none', classPref='encap', customEpgName='', delimiter='', encap='unknown', encapMode='auto', epgCos='Cos0', epgCosPref='disabled', instrImedcy='lazy', lagPolicyName='', netflowDir='both', netflowPref='disabled', numPorts='0', portAllocation='none', primaryEncap='unknown', primaryEncapInner='unknown', resImedcy='immediate', secondaryEncapInner='unknown', switchingMode='native', tDn='uni/phys-'+domname, untagged='no', userdom=':all:', vnetOnly='no')\n",
    "\n",
    "\n",
    "    # commit the generated code to APIC\n",
    "    print(toXMLStr(fvAEPg))\n",
    "    c = cobra.mit.request.ConfigRequest()\n",
    "    c.addMo(fvAEPg)\n",
    "    md.commit(c)"
   ]
  },
  {
   "cell_type": "code",
   "execution_count": 44,
   "id": "163a259f-ea09-4188-8c6f-f8dc77b8ef2e",
   "metadata": {},
   "outputs": [],
   "source": [
    "def createintprofile(md,nodeprofile):\n",
    "\n",
    "        # the top level object on which operations will be made\n",
    "    # the top level object on which operations will be made\n",
    "    polUni = cobra.model.pol.Uni('')\n",
    "    infraInfra = cobra.model.infra.Infra(polUni)\n",
    "\n",
    "    # build the request using cobra syntax\n",
    "    infraAccPortP = cobra.model.infra.AccPortP(infraInfra, annotation='', descr='', name=nodeprofile, nameAlias='', ownerKey='', ownerTag='', userdom=':all:')\n",
    "\n",
    "\n",
    "    # commit the generated code to APIC\n",
    "    print(toXMLStr(infraInfra))\n",
    "    c = cobra.mit.request.ConfigRequest()\n",
    "    c.addMo(infraInfra)\n",
    "    md.commit(c)"
   ]
  },
  {
   "cell_type": "code",
   "execution_count": 45,
   "id": "48e3360e-9fbd-4d50-9d3d-40615d148f55",
   "metadata": {},
   "outputs": [],
   "source": [
    "def createaccessport(md,nodeprofile,intpolicy,portname,port):\n",
    "\n",
    "    #question on fexid also range possible\n",
    "    # the top level object on which operations will be made\n",
    "    polUni = cobra.model.pol.Uni('')\n",
    "    infraInfra = cobra.model.infra.Infra(polUni)\n",
    "    infraAccPortP = cobra.model.infra.AccPortP(infraInfra, nodeprofile)\n",
    "\n",
    "    # build the request using cobra syntax\n",
    "    infraHPortS = cobra.model.infra.HPortS(infraAccPortP, annotation='', descr='', name=portname, nameAlias='', ownerKey='', ownerTag='', type='range', userdom=':all:')\n",
    "    infraRsAccBaseGrp = cobra.model.infra.RsAccBaseGrp(infraHPortS, annotation='', fexId='101', tDn='uni/infra/funcprof/accbundle-'+intpolicy, userdom=':all:')\n",
    "    infraPortBlk = cobra.model.infra.PortBlk(infraHPortS, annotation='', descr='', fromCard='1', fromPort=port, name='block2', nameAlias='', toCard='1', toPort=port, userdom=':all:')\n",
    "\n",
    "\n",
    "    # commit the generated code to APIC\n",
    "    print(toXMLStr(infraAccPortP))\n",
    "    c = cobra.mit.request.ConfigRequest()\n",
    "    c.addMo(infraAccPortP)\n",
    "    md.commit(c)"
   ]
  },
  {
   "cell_type": "code",
   "execution_count": 46,
   "id": "936a97d0-5f6c-4649-a3fe-95a764f62969",
   "metadata": {},
   "outputs": [],
   "source": [
    "def createaccessportselector(md,tenantname,appname,epgname,vlanname,intpolicy,switchprofile):\n",
    "    vlan='vlan-'+str(filter(str.isdigit, vlanname))\n",
    "    # the top level object on which operations will be made\n",
    "    polUni = cobra.model.pol.Uni('')\n",
    "    fvTenant = cobra.model.fv.Tenant(polUni, tenantname)\n",
    "    fvAp = cobra.model.fv.Ap(fvTenant, appname)\n",
    "    fvAEPg = cobra.model.fv.AEPg(fvAp, epgname)\n",
    "\n",
    "    # build the request using cobra syntax\n",
    "    fvRsPathAtt = cobra.model.fv.RsPathAtt(fvAEPg, annotation='', descr='', encap=vlan, instrImedcy='immediate', mode='regular', primaryEncap='unknown', tDn='topology/pod-1/protpaths-'+switchprofile+'/pathep-['+intpolicy+']', userdom=':all:')\n",
    "\n",
    "\n",
    "    # commit the generated code to APIC\n",
    "    print(toXMLStr(fvAEPg))\n",
    "    c = cobra.mit.request.ConfigRequest()\n",
    "    c.addMo(fvAEPg)\n",
    "    md.commit(c)"
   ]
  },
  {
   "cell_type": "code",
   "execution_count": 47,
   "id": "474896df-0e7c-48e1-9f4b-322c112166c0",
   "metadata": {},
   "outputs": [],
   "source": [
    "def switchfunct(classname,row,md,vlanpool):\n",
    "    if classname == 'fvnsVlanInstP':\n",
    "        createVlanPool(md,row['VlanPool'],row['vlan'])\n",
    "    elif classname== 'physDomP':\n",
    "        createPhysDom(md,vlanpool,row['PhysicalDomain'])\n",
    "        attachdomaep(md,row['AEP'],row['PhysicalDomain'])\n",
    "    elif classname== 'fvTenant':\n",
    "        print('Create your tenant')\n",
    "        createTenant(md,row['Tenant'])\n",
    "    elif classname == 'vzBrCP':\n",
    "        createanycontract(md,row['Tenant'],row['contract'])\n",
    "    elif classname=='fvCtx':\n",
    "        createvrf(md,row['Tenant'],row['VRF'])\n",
    "    elif classname=='infraNodeP':\n",
    "        print('Create leaf profile')\n",
    "    elif classname=='fvAp':\n",
    "        createapp(md,row['Tenant'],row['ApplicationProfile'])\n",
    "    elif classname=='fvBD':\n",
    "        createbd(md,row['Tenant'],row['BDSubnet'],row['BD'],row['VRF'])\n",
    "    elif classname=='fvSubnet':\n",
    "        createbdsubnet(md,row['Tenant'],row['BD'],row['BDSubnet'])\n",
    "    elif classname=='fvAEPg':\n",
    "        createepg(md,row['Tenant'],row['ApplicationProfile'],row['EPG'],row['BD'])\n",
    "    elif classname=='fvRsDomAtt':\n",
    "        createdomepg(md,row['Tenant'],row['ApplicationProfile'],row['BD'],row['EPG'],row['PhysicalDomain'])\n",
    "    elif classname=='infraAccPortP':\n",
    "        createintprofile(md,row['LogicalNodeProfile'])\n",
    "        print('Create leaf interface profile')\n",
    "    elif classname=='infraHPortS':\n",
    "        print('Create access port selector')\n",
    "        createaccessport(md,row['LogicalNodeProfile'],row['InterfacePolicyGroup'],row['portname'],row['port'])\n",
    "    elif classname=='fvRsPathAtt':\n",
    "        print('create access port selector')\n",
    "        createaccessportselector(md,row['Tenant'],row['ApplicationProfile'],row['EPG'],row['BD'],row['InterfacePolicyGroup'],row['SwitchProfile'])\n",
    "    else:\n",
    "        pass   "
   ]
  },
  {
   "cell_type": "code",
   "execution_count": 52,
   "id": "7e08a620-5372-4c7d-a8c0-40d1d7cd7648",
   "metadata": {},
   "outputs": [
    {
     "name": "stdout",
     "output_type": "stream",
     "text": [
      "enter password: ········\n"
     ]
    },
    {
     "name": "stdout",
     "output_type": "stream",
     "text": [
      "Found: uni/infra/vlanns-[Daniel_Vlan_Pool]-static/fvnsVlanInstP\n",
      "Found: uni/phys-Daniel_Dom/physDomP\n",
      "Found: uni/infra/attentp-PITC_AEP/infraAttEntityP\n",
      "Found: uni/tn-Daniel/fvTenant\n",
      "Found: uni/tn-Daniel/ctx-Daniel/fvCtx\n",
      "Found: uni/infra/nprof-L1001-1002/infraNodeP\n",
      "Found: uni/tn-Daniel/ap-AP/fvAp\n",
      "Found: uni/tn-Daniel/BD-BD-1161/fvBD\n",
      "Found: uni/tn-Daniel/BD-BD-1161/fvSubnet\n",
      "Found: uni/tn-Daniel/ap-AP/epg-EPG-1161/rsdomAtt-[uni/phys-Daniel_Dom]/fvRsDomAtt\n",
      "Found: uni/infra/accportprof-L1001-1002/infraAccPortP\n",
      "Found: uni/tn-Daniel/ap-AP/epg-EPG-1161/rspathAtt-[topology/pod-1/protpaths-1001-1002/pathep-[Test_PO1]]/fvRsPathAtt\n",
      "Found: uni/tn-Daniel/out-L3-Out-Daniel/l3extOut\n",
      "Found: uni/infra/vlanns-[Tim_Vlan]-static/fvnsVlanInstP\n",
      "Found: uni/phys-Tim_Dom/physDomP\n",
      "Found: uni/infra/attentp-PITC_AEP/infraAttEntityP\n",
      "Found: uni/tn-Tim/fvTenant\n",
      "Missing: uni/tn-Tim/ctx-Daniel/fvCtx\n"
     ]
    },
    {
     "name": "stdout",
     "output_type": "stream",
     "text": [
      "Would you like to see all classes relating(y or n): n\n",
      "Would you like to create missing item(y or n): y\n"
     ]
    },
    {
     "name": "stdout",
     "output_type": "stream",
     "text": [
      "creating fvCtx:\n",
      "<?xml version=\"1.0\" encoding=\"UTF-8\"?>\n",
      "<fvTenant name='Daniel' status='created,modified'><fvCtx annotation='' bdEnforcedEnable='no' descr='' ipDataPlaneLearning='enabled' knwMcastAct='permit' name='Daniel' nameAlias='' ownerKey='' ownerTag='' pcEnfDir='ingress' pcEnfPref='enforced' status='created,modified' userdom=':all:' vrfIndex='0'><leakRoutes annotation='' descr='' name='' nameAlias='' status='created,modified' userdom=':all:'></leakRoutes><fvRsVrfValidationPol annotation='' status='created,modified' tnL3extVrfValidationPolName='' userdom='all'></fvRsVrfValidationPol><vzAny annotation='' descr='' matchT='AtleastOne' name='' nameAlias='' prefGrMemb='disabled' status='created,modified' userdom='all'><vzRsAnyToProv annotation='' intent='install' matchT='AtleastOne' prio='unspecified' status='created,modified' tnVzBrCPName='permit-any' userdom=':all:'></vzRsAnyToProv><vzRsAnyToCons annotation='' intent='install' prio='unspecified' status='created,modified' tnVzBrCPName='permit-any' userdom=':all:'></vzRsAnyToCons></vzAny><fvRsOspfCtxPol annotation='' status='created,modified' tnOspfCtxPolName='' userdom='all'></fvRsOspfCtxPol><fvRsCtxToEpRet annotation='' status='created,modified' tnFvEpRetPolName='' userdom='all'></fvRsCtxToEpRet><fvRsCtxToExtRouteTagPol annotation='' status='created,modified' tnL3extRouteTagPolName='' userdom='all'></fvRsCtxToExtRouteTagPol><fvRsBgpCtxPol annotation='' status='created,modified' tnBgpCtxPolName='' userdom='all'></fvRsBgpCtxPol></fvCtx></fvTenant>\n",
      "Missing: uni/infra/nprof-L1001-1003/infraNodeP\n"
     ]
    },
    {
     "name": "stdout",
     "output_type": "stream",
     "text": [
      "Would you like to see all classes relating(y or n): n\n",
      "Would you like to create missing item(y or n): n\n"
     ]
    },
    {
     "name": "stdout",
     "output_type": "stream",
     "text": [
      "Found: uni/tn-Tim/ap-AP/fvAp\n",
      "Found: uni/tn-Daniel/BD-BD-1162/fvBD\n",
      "Missing: uni/tn-Tim/BD-BD-1162/fvSubnet\n"
     ]
    },
    {
     "name": "stdout",
     "output_type": "stream",
     "text": [
      "Would you like to see all classes relating(y or n): y\n"
     ]
    },
    {
     "name": "stdout",
     "output_type": "stream",
     "text": [
      "Found related:\n",
      "uni/tn-Austin-N/BD-BD-1012/subnet-[10.2.2.1/24]\n",
      "uni/tn-Test/BD-BD-1003/subnet-[10.1.3.1/24]\n",
      "uni/tn-Mirwais/BD-BD-1031/subnet-[10.4.1.1/24]\n",
      "uni/tn-Steve/BD-BD-1071/subnet-[10.8.1.1/24]\n",
      "uni/tn-Steve/BD-BD-1072/subnet-[10.8.2.1/24]\n",
      "uni/tn-Test/BD-BD-1004/subnet-[10.1.4.1/24]\n",
      "uni/tn-Mirwais/BD-BD-1032/subnet-[10.4.2.1/24]\n",
      "uni/tn-Test/BD-BD-1001/subnet-[10.1.1.1/24]\n",
      "uni/tn-Stan_The_Man/BD-BD-1082/subnet-[10.9.2.1/24]\n",
      "uni/tn-Austin-N/BD-BD-1011/subnet-[10.2.1.1/24]\n",
      "uni/tn-Stan_The_Man/BD-BD-1081/subnet-[10.9.1.1/24]\n",
      "uni/tn-Test/BD-BD-1002/subnet-[10.1.2.1/24]\n",
      "uni/tn-Daniel/BD-BD-1161/subnet-[10.17.1.1/24]\n",
      "uni/tn-Daniel/BD-BD-1162/subnet-[10.17.2.1/24]\n"
     ]
    },
    {
     "name": "stdout",
     "output_type": "stream",
     "text": [
      "Would you like to create missing item(y or n): y\n"
     ]
    },
    {
     "name": "stdout",
     "output_type": "stream",
     "text": [
      "creating fvSubnet:\n",
      "<?xml version=\"1.0\" encoding=\"UTF-8\"?>\n",
      "<fvBD name='BD-1162' status='created,modified'><fvSubnet annotation='' ctrl='' descr='' ip='10.17.1.1/25' ipDPLearning='enabled' name='' nameAlias='' preferred='no' status='created,modified' userdom=':all:' virtual='no'></fvSubnet></fvBD>\n",
      "Missing: uni/tn-Tim/ap-AP/epg-EPG-1162/rsdomAtt-[uni/phys-Tim_Dom]/fvRsDomAtt\n"
     ]
    },
    {
     "name": "stdout",
     "output_type": "stream",
     "text": [
      "Would you like to see all classes relating(y or n): n\n",
      "Would you like to create missing item(y or n): y\n"
     ]
    },
    {
     "name": "stdout",
     "output_type": "stream",
     "text": [
      "creating fvRsDomAtt:\n",
      "<?xml version=\"1.0\" encoding=\"UTF-8\"?>\n",
      "<fvAEPg name='EPG-1162' status='created,modified'><fvRsDomAtt annotation='' bindingType='none' classPref='encap' customEpgName='' delimiter='' encap='unknown' encapMode='auto' epgCos='Cos0' epgCosPref='disabled' instrImedcy='lazy' lagPolicyName='' netflowDir='both' netflowPref='disabled' numPorts='0' portAllocation='none' primaryEncap='unknown' primaryEncapInner='unknown' resImedcy='immediate' secondaryEncapInner='unknown' status='created,modified' switchingMode='native' tDn='uni/phys-Tim_Dom' untagged='no' userdom=':all:' vnetOnly='no'></fvRsDomAtt></fvAEPg>\n",
      "Missing: uni/infra/accportprof-L1001-1003/infraAccPortP\n"
     ]
    },
    {
     "name": "stdout",
     "output_type": "stream",
     "text": [
      "Would you like to see all classes relating(y or n): n\n",
      "Would you like to create missing item(y or n): y\n"
     ]
    },
    {
     "name": "stdout",
     "output_type": "stream",
     "text": [
      "creating infraAccPortP:\n",
      "Create node profile\n",
      "Missing: uni/tn-Tim/ap-AP/epg-EPG-1162/rspathAtt-[topology/pod-1/protpaths-1001-1003/pathep-[Test_PO2]]/fvRsPathAtt\n"
     ]
    },
    {
     "name": "stdout",
     "output_type": "stream",
     "text": [
      "Would you like to see all classes relating(y or n): y\n"
     ]
    },
    {
     "name": "stdout",
     "output_type": "stream",
     "text": [
      "Found related:\n",
      "uni/tn-Stan_The_Man/ap-AP/epg-EPG-1081/rspathAtt-[topology/pod-1/protpaths-1001-1002/pathep-[Test_PO1]]\n",
      "uni/tn-Mirwais/ap-AP/epg-EPG-1031/rspathAtt-[topology/pod-1/protpaths-1001-1002/pathep-[Test_PO1]]\n",
      "uni/tn-Test/ap-AP/epg-EPG-1004/rspathAtt-[topology/pod-1/protpaths-1017-1018/pathep-[Test_PO2]]\n",
      "uni/tn-Austin-N/ap-Austin-AP/epg-EPG-1011/rspathAtt-[topology/pod-1/protpaths-1001-1002/pathep-[Test_PO1]]\n",
      "uni/tn-Steve/ap-AP/epg-EPG-1072/rspathAtt-[topology/pod-1/protpaths-1017-1018/pathep-[Test_PO2]]\n",
      "uni/tn-Mirwais/ap-AP/epg-EPG-1032/rspathAtt-[topology/pod-1/protpaths-1017-1018/pathep-[Test_PO2]]\n",
      "uni/tn-Austin-N/ap-Austin-AP/epg-EPG-1012/rspathAtt-[topology/pod-1/protpaths-1017-1018/pathep-[Test_PO2]]\n",
      "uni/tn-Test/ap-AP/epg-EPG-1001/rspathAtt-[topology/pod-1/paths-1001/pathep-[eth1/15]]\n",
      "uni/tn-Stan_The_Man/ap-AP/epg-EPG-1082/rspathAtt-[topology/pod-1/protpaths-1017-1018/pathep-[Test_PO2]]\n",
      "uni/tn-Test/ap-AP/epg-EPG-1002/rspathAtt-[topology/pod-1/protpaths-1001-1002/pathep-[Test_PO1]]\n",
      "uni/tn-Test/ap-AP/epg-EPG-1003/rspathAtt-[topology/pod-1/paths-1017/pathep-[PC-12]]\n",
      "uni/tn-Steve/ap-AP/epg-EPG-1071/rspathAtt-[topology/pod-1/protpaths-1001-1002/pathep-[Test_PO1]]\n",
      "uni/tn-Daniel/ap-AP/epg-EPG-1161/rspathAtt-[topology/pod-1/protpaths-1001-1002/pathep-[Test_PO1]]\n",
      "uni/tn-Daniel/ap-AP/epg-EPG-1162/rspathAtt-[topology/pod-1/protpaths-1017-1018/pathep-[Test_PO2]]\n"
     ]
    },
    {
     "name": "stdout",
     "output_type": "stream",
     "text": [
      "Would you like to create missing item(y or n): n\n"
     ]
    },
    {
     "name": "stdout",
     "output_type": "stream",
     "text": [
      "Missing: uni/tn-Tim/out-L3-tem/l3extOut\n"
     ]
    },
    {
     "name": "stdout",
     "output_type": "stream",
     "text": [
      "Would you like to see all classes relating(y or n): n\n",
      "Would you like to create missing item(y or n): n\n"
     ]
    }
   ],
   "source": [
    "\n",
    "username=\"user\"\n",
    "passw=getpass.getpass(\"enter password:\")\n",
    "ls = cobra.mit.session.LoginSession('https://apic', username, passw)\n",
    "md = cobra.mit.access.MoDirectory(ls)\n",
    "md.login()\n",
    "def load_spread():\n",
    "    with open(r'C:\\Users\\user\\Downloads\\aci_variables.csv', newline='',encoding='utf-8-sig') as csvfile:\n",
    "        reader = csv.DictReader(csvfile)\n",
    "        for row in reader:\n",
    "            vlanpool ='uni/infra/vlanns-['+row['VlanPool']+']-static' + '/fvnsVlanInstP'\n",
    "            physdom= 'uni/phys-'+row['PhysicalDomain']+ '/physDomP'\n",
    "            aep='uni/infra/attentp-'+row['AEP']+'/infraAttEntityP'\n",
    "            tenant='uni/tn-'+row['Tenant']+'/fvTenant'\n",
    "            contract='uni/tn-Daniel/brc-'+row['contract']+'/vzBrCP'\n",
    "            vrf='uni/tn-'+row['Tenant']+'/ctx-'+row['VRF']+'/fvCtx'\n",
    "            switchprofile='uni/infra/nprof-'+row['LogicalNodeProfile']+'/infraNodeP'\n",
    "            app='uni/tn-'+row['Tenant']+'/ap-'+row['ApplicationProfile']+'/fvAp'\n",
    "            bridgepdomain='uni/tn-Daniel/BD-'+row['BD']+'/fvBD'\n",
    "            bdsubnet='uni/tn-'+row['Tenant']+'/BD-'+row['BD']+'/fvSubnet'\n",
    "            epg='uni/tn-'+row['Tenant']+'/ap-'+row['ApplicationProfile']+'/epg-'+row['EPG']+'/fvAEPg'\n",
    "            domatt='uni/tn-'+row['Tenant']+'/ap-'+row['ApplicationProfile']+'/epg-'+row['EPG']+'/rsdomAtt-[uni/phys-'+row['PhysicalDomain']+ ']'+'/fvRsDomAtt'\n",
    "            intprofile='uni/infra/accportprof-'+row['LogicalNodeProfile']+'/infraAccPortP'\n",
    "            accessport='uni/infra/accportprof-'+row['LogicalNodeProfile']+'/hports-'+row['portname']+'-typ-range'+'/infraHPortS'\n",
    "            staticport='uni/tn-'+row['Tenant']+'/ap-'+row['ApplicationProfile']+'/epg-'+row['EPG']+'/rspathAtt-[topology/pod-1/protpaths-'+row['SwitchProfile']+'/pathep-['+row['InterfacePolicyGroup']+']]'+'/fvRsPathAtt'\n",
    "            l3out='uni/tn-'+row['Tenant']+'/out-'+row['L3OutName']+'/l3extOut'\n",
    "            config_check_list=[vlanpool,physdom,aep,tenant,vrf,switchprofile,app,bridgepdomain,bdsubnet,domatt,intprofile,staticport,l3out]\n",
    "            for config in config_check_list:\n",
    "                x=querydnjson_funct(config)\n",
    "                if not x:\n",
    "                    print('Missing: '+str(config))\n",
    "                    answer=input(\"Would you like to see all classes relating(y or n):\")\n",
    "                    if answer =='y' or answer =='Y':\n",
    "                        print('Found related:')\n",
    "                        temp_list=classQueryFunc(config)\n",
    "                        for item in temp_list:\n",
    "                            print(item)\n",
    "                    elif answer =='n' or answer =='N':\n",
    "                        pass\n",
    "                    else:\n",
    "                        print('Did not recognize your input')\n",
    "                        \n",
    "                    answer=input(\"Would you like to create missing item(y or n):\")\n",
    "                    if answer =='y' or answer =='Y':\n",
    "                        print('creating '+parseClass(config)+':')\n",
    "                        switchfunct(parseClass(config),row,md,vlanpool)\n",
    "                        \n",
    "                    elif answer =='n' or answer =='N':\n",
    "                        pass\n",
    "                    else:\n",
    "                        print('Did not recognize your input')\n",
    "                    \n",
    "                else:\n",
    "                    print('Found: '+str(config))\n",
    "load_spread()"
   ]
  },
  {
   "cell_type": "markdown",
   "id": "732115af",
   "metadata": {},
   "source": [
    "### Print tenant bd in json format...you need the config to print it obviously...config not listed here"
   ]
  },
  {
   "cell_type": "code",
   "execution_count": null,
   "id": "405d5013-a8fb-4405-a224-42e269210c56",
   "metadata": {},
   "outputs": [],
   "source": [
    "import json\n",
    "from cobra.internal.codec.jsoncodec import toJSONStr\n",
    "for tenantBd in tenantBdMoList:\n",
    "    x=(json.loads(toJSONStr(tenantBd)))\n",
    "    print(json.dumps(x,sort_keys=True, indent=4))"
   ]
  },
  {
   "cell_type": "markdown",
   "id": "c7a2a015",
   "metadata": {},
   "source": [
    "### query function that get's passed a class"
   ]
  },
  {
   "cell_type": "code",
   "execution_count": 20,
   "id": "64bddb17-57f4-463e-9a06-f2227f383f58",
   "metadata": {},
   "outputs": [],
   "source": [
    "def query_class(temp_class):\n",
    "    class_query = cobra.mit.access.ClassQuery(temp_class)\n",
    "    objs = md.query(class_query)\n",
    "    for item in objs:\n",
    "        print(item.name)"
   ]
  },
  {
   "cell_type": "markdown",
   "id": "228d1d79",
   "metadata": {},
   "source": [
    "### I take a config and break out subsets"
   ]
  },
  {
   "cell_type": "code",
   "execution_count": 194,
   "id": "10932443-5e03-438e-9d53-5d09767e7188",
   "metadata": {},
   "outputs": [
    {
     "name": "stdout",
     "output_type": "stream",
     "text": [
      "found tenant\n",
      "contract:permit-any\n",
      "VRF:Daniel\n",
      "BD-1162\n",
      "   10.17.2.1/24\n",
      "BD-1161\n",
      "   10.17.1.1/24\n",
      "AP\n",
      "   EPG-1162\n",
      "      uni/phys-Daniel_Dom\n",
      "   EPG-1161\n",
      "      uni/phys-Daniel_Dom\n"
     ]
    }
   ],
   "source": [
    " if(x[\"fvTenant\"][\"attributes\"][\"name\"])==\"Daniel\":\n",
    "        print('found tenant')\n",
    "        temp_list=(x[\"fvTenant\"][\"children\"])\n",
    "        for lst in temp_list:\n",
    "            if type(lst)==dict:\n",
    "                if \"fvBD\" in lst:\n",
    "                    print(lst[\"fvBD\"][\"attributes\"][\"name\"])\n",
    "                    fvBDChildren=(lst[\"fvBD\"][\"children\"])\n",
    "                    for item in fvBDChildren:\n",
    "                        if type(item)==dict:\n",
    "                            if \"fvSubnet\" in item:\n",
    "                                print(\"   \"+item[\"fvSubnet\"][\"attributes\"][\"ip\"])\n",
    "                if \"vzBrCP\" in lst:\n",
    "                    print('contract:'+lst[\"vzBrCP\"][\"attributes\"][\"name\"])\n",
    "                if \"fvCtx\" in lst:\n",
    "                    print('VRF:'+lst[\"fvCtx\"][\"attributes\"][\"name\"])\n",
    "                if \"fvAp\" in lst:\n",
    "                    print(lst[\"fvAp\"][\"attributes\"][\"name\"])\n",
    "                    fvAp=(lst[\"fvAp\"][\"children\"])\n",
    "                    for itemz in fvAp:\n",
    "                        if type(itemz)==dict:\n",
    "                            if \"fvAEPg\" in itemz:\n",
    "                                fvAEPg=(itemz[\"fvAEPg\"][\"children\"])\n",
    "                                for itmz in fvAEPg:\n",
    "                                    if \"fvRsDomAtt\" in itmz:\n",
    "                                        print(\"   \"+itemz[\"fvAEPg\"][\"attributes\"][\"name\"]) \n",
    "                                        print(\"      \"+itmz[\"fvRsDomAtt\"][\"attributes\"][\"tDn\"])\n",
    "                                \n",
    "                                "
   ]
  },
  {
   "cell_type": "code",
   "execution_count": null,
   "id": "90c90000-0640-47bd-8a83-f4ae43e02463",
   "metadata": {},
   "outputs": [],
   "source": []
  }
 ],
 "metadata": {
  "kernelspec": {
   "display_name": "Python 3.9.13 64-bit",
   "language": "python",
   "name": "python3"
  },
  "language_info": {
   "codemirror_mode": {
    "name": "ipython",
    "version": 3
   },
   "file_extension": ".py",
   "mimetype": "text/x-python",
   "name": "python",
   "nbconvert_exporter": "python",
   "pygments_lexer": "ipython3",
   "version": "3.9.13"
  },
  "vscode": {
   "interpreter": {
    "hash": "202e4dd1e8815464a272cce09a7c37b9922276ddad2206b61931d9f320da2ee4"
   }
  }
 },
 "nbformat": 4,
 "nbformat_minor": 5
}
